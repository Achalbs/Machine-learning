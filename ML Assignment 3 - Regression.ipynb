{
 "cells": [
  {
   "cell_type": "code",
   "execution_count": 2,
   "id": "b6a72914-0aa2-4cd1-9d49-793ee109dc76",
   "metadata": {},
   "outputs": [],
   "source": [
    "import pandas as pd\n",
    "import numpy as np\n",
    "from sklearn.datasets import fetch_california_housing\n",
    "from sklearn.model_selection import train_test_split\n",
    "from sklearn.preprocessing import StandardScaler\n",
    "from sklearn.linear_model import LinearRegression\n",
    "from sklearn.tree import DecisionTreeRegressor\n",
    "from sklearn.ensemble import RandomForestRegressor, GradientBoostingRegressor\n",
    "from sklearn.svm import SVR\n",
    "from sklearn.metrics import mean_squared_error, mean_absolute_error, r2_score\n"
   ]
  },
  {
   "cell_type": "markdown",
   "id": "3bafa95b-d603-4794-8faf-c012e6674629",
   "metadata": {},
   "source": [
    "Loading and Preprocessing"
   ]
  },
  {
   "cell_type": "code",
   "execution_count": 4,
   "id": "d8e5b974-e834-43f6-8138-63ea766b5588",
   "metadata": {},
   "outputs": [],
   "source": [
    "data = fetch_california_housing()\n",
    "df = pd.DataFrame(data=data.data, columns=data.feature_names)\n",
    "df['MedHouseValue'] = data.target\n"
   ]
  },
  {
   "cell_type": "markdown",
   "id": "8a9ebd2a-91d5-4f54-b36a-25dffd8b6822",
   "metadata": {},
   "source": [
    "Check for missing values"
   ]
  },
  {
   "cell_type": "code",
   "execution_count": 6,
   "id": "864a9c2d-934f-4cb6-b9ab-3c619ea2f495",
   "metadata": {},
   "outputs": [
    {
     "name": "stdout",
     "output_type": "stream",
     "text": [
      "Missing values:\n",
      " MedInc           0\n",
      "HouseAge         0\n",
      "AveRooms         0\n",
      "AveBedrms        0\n",
      "Population       0\n",
      "AveOccup         0\n",
      "Latitude         0\n",
      "Longitude        0\n",
      "MedHouseValue    0\n",
      "dtype: int64\n"
     ]
    }
   ],
   "source": [
    "print(\"Missing values:\\n\", df.isnull().sum())"
   ]
  },
  {
   "cell_type": "markdown",
   "id": "fedd5856-4924-406c-ab85-6b0ea92000f6",
   "metadata": {},
   "source": [
    "Missing values can distort model training and lead to errors or misleading results. In this dataset, there are no missing values, so no imputation was needed."
   ]
  },
  {
   "cell_type": "code",
   "execution_count": 10,
   "id": "fc7dcefa-b170-4b32-a089-b66d11251c09",
   "metadata": {},
   "outputs": [],
   "source": [
    "X = df.drop('MedHouseValue', axis=1)\n",
    "y = df['MedHouseValue']"
   ]
  },
  {
   "cell_type": "markdown",
   "id": "9c94fb33-8fdf-419b-9d83-8ebe28f73aff",
   "metadata": {},
   "source": [
    "Split into train and test sets"
   ]
  },
  {
   "cell_type": "code",
   "execution_count": 12,
   "id": "0d072375-d131-45c4-ab84-6e6d861d8583",
   "metadata": {},
   "outputs": [],
   "source": [
    "X_train, X_test, y_train, y_test = train_test_split(X, y, test_size=0.2, random_state=42)\n"
   ]
  },
  {
   "cell_type": "markdown",
   "id": "fac142a5-763e-4889-9578-f25f4ddbd2ea",
   "metadata": {},
   "source": [
    "Feature scaling"
   ]
  },
  {
   "cell_type": "code",
   "execution_count": 15,
   "id": "44a7ddf8-504e-469f-817e-19c9f31d16a9",
   "metadata": {},
   "outputs": [],
   "source": [
    "scaler = StandardScaler()\n",
    "X_train_scaled = scaler.fit_transform(X_train)\n",
    "X_test_scaled = scaler.transform(X_test)"
   ]
  },
  {
   "cell_type": "markdown",
   "id": "0b354922-faac-4e4d-8400-531498056f49",
   "metadata": {},
   "source": [
    "Regression Algorithms"
   ]
  },
  {
   "cell_type": "code",
   "execution_count": 19,
   "id": "c2e29ee1-18f8-459a-9e3c-54bc752f96a1",
   "metadata": {},
   "outputs": [],
   "source": [
    "models = {\n",
    "    \"Linear Regression\": LinearRegression(),\n",
    "    \"Decision Tree Regressor\": DecisionTreeRegressor(random_state=42),\n",
    "    \"Random Forest Regressor\": RandomForestRegressor(random_state=42),\n",
    "    \"Gradient Boosting Regressor\": GradientBoostingRegressor(random_state=42),\n",
    "    \"Support Vector Regressor\": SVR()\n",
    "}\n",
    "\n",
    "results = []\n"
   ]
  },
  {
   "cell_type": "code",
   "execution_count": 21,
   "id": "19edd26b-4e8b-42c9-9b69-e87e445aefa3",
   "metadata": {},
   "outputs": [],
   "source": [
    "for name, model in models.items():\n",
    "    # Use scaled features for SVR and Linear Regression\n",
    "    if name in [\"Support Vector Regressor\", \"Linear Regression\"]:\n",
    "        model.fit(X_train_scaled, y_train)\n",
    "        y_pred = model.predict(X_test_scaled)\n",
    "    else:\n",
    "        model.fit(X_train, y_train)\n",
    "        y_pred = model.predict(X_test)\n",
    "\n",
    "    mse = mean_squared_error(y_test, y_pred)\n",
    "    mae = mean_absolute_error(y_test, y_pred)\n",
    "    r2 = r2_score(y_test, y_pred)\n",
    "\n",
    "    results.append({\n",
    "        \"Model\": name,\n",
    "        \"MSE\": mse,\n",
    "        \"MAE\": mae,\n",
    "        \"R²\": r2\n",
    "    })"
   ]
  },
  {
   "cell_type": "markdown",
   "id": "03727595-b192-44de-a5a3-c58888c81171",
   "metadata": {},
   "source": [
    "Convert results to DataFrame\n"
   ]
  },
  {
   "cell_type": "code",
   "execution_count": 24,
   "id": "eecae6af-2e87-481a-a888-386b5d306933",
   "metadata": {},
   "outputs": [
    {
     "name": "stdout",
     "output_type": "stream",
     "text": [
      "\n",
      "Model Evaluation Results:\n",
      "                         Model       MSE       MAE        R²\n",
      "2      Random Forest Regressor  0.255368  0.327543  0.805123\n",
      "3  Gradient Boosting Regressor  0.293997  0.371643  0.775645\n",
      "4     Support Vector Regressor  0.357004  0.398599  0.727563\n",
      "1      Decision Tree Regressor  0.495235  0.454679  0.622076\n",
      "0            Linear Regression  0.555892  0.533200  0.575788\n"
     ]
    }
   ],
   "source": [
    "results_df = pd.DataFrame(results)\n",
    "print(\"\\nModel Evaluation Results:\")\n",
    "print(results_df.sort_values(by=\"R²\", ascending=False))"
   ]
  },
  {
   "cell_type": "markdown",
   "id": "fcf919e7-00d7-47b4-b323-da37a10714c8",
   "metadata": {},
   "source": [
    "Best and Worst Performing Models\n",
    "\n"
   ]
  },
  {
   "cell_type": "code",
   "execution_count": 26,
   "id": "fa158383-779c-4de5-a8c2-776cb1a305e8",
   "metadata": {},
   "outputs": [],
   "source": [
    "best_model = results_df.loc[results_df['R²'].idxmax()]\n",
    "worst_model = results_df.loc[results_df['R²'].idxmin()]\n"
   ]
  },
  {
   "cell_type": "markdown",
   "id": "e416596d-3f71-4fde-b852-fe5a85bf42fd",
   "metadata": {},
   "source": [
    "R² score (coefficient of determination) tells how well the model explains variance in the target variable. Higher is better, with 1.0 being perfect."
   ]
  },
  {
   "cell_type": "code",
   "execution_count": 28,
   "id": "b39b11dd-e68d-44c8-995a-3a2cc6511f8f",
   "metadata": {},
   "outputs": [],
   "source": [
    "from IPython.display import display, HTML"
   ]
  },
  {
   "cell_type": "code",
   "execution_count": 30,
   "id": "e0f127b8-c18e-4dd8-9f30-2de8fa46ec28",
   "metadata": {},
   "outputs": [
    {
     "data": {
      "text/html": [
       "<span style=\"color:blue; font-weight:bold; font-size:18px\">Best Performing Model</span>"
      ],
      "text/plain": [
       "<IPython.core.display.HTML object>"
      ]
     },
     "metadata": {},
     "output_type": "display_data"
    },
    {
     "name": "stdout",
     "output_type": "stream",
     "text": [
      "Model    Random Forest Regressor\n",
      "MSE                     0.255368\n",
      "MAE                     0.327543\n",
      "R²                      0.805123\n",
      "Name: 2, dtype: object\n"
     ]
    }
   ],
   "source": [
    "display(HTML('<span style=\"color:blue; font-weight:bold; font-size:18px\">Best Performing Model</span>'))\n",
    "print(best_model)\n"
   ]
  },
  {
   "cell_type": "code",
   "execution_count": 32,
   "id": "6299726a-074b-473f-a215-0cee346dc905",
   "metadata": {},
   "outputs": [
    {
     "data": {
      "text/html": [
       "<span style=\"color:blue; font-weight:bold; font-size:18px\">Worst Performing Model</span>"
      ],
      "text/plain": [
       "<IPython.core.display.HTML object>"
      ]
     },
     "metadata": {},
     "output_type": "display_data"
    },
    {
     "name": "stdout",
     "output_type": "stream",
     "text": [
      "Model    Linear Regression\n",
      "MSE               0.555892\n",
      "MAE                 0.5332\n",
      "R²                0.575788\n",
      "Name: 0, dtype: object\n"
     ]
    }
   ],
   "source": [
    "display(HTML('<span style=\"color:blue; font-weight:bold; font-size:18px\">Worst Performing Model</span>'))\n",
    "print(worst_model)"
   ]
  },
  {
   "cell_type": "code",
   "execution_count": null,
   "id": "a14d6283-a312-446e-9817-166c69d91db4",
   "metadata": {},
   "outputs": [],
   "source": []
  }
 ],
 "metadata": {
  "kernelspec": {
   "display_name": "Python [conda env:base] *",
   "language": "python",
   "name": "conda-base-py"
  },
  "language_info": {
   "codemirror_mode": {
    "name": "ipython",
    "version": 3
   },
   "file_extension": ".py",
   "mimetype": "text/x-python",
   "name": "python",
   "nbconvert_exporter": "python",
   "pygments_lexer": "ipython3",
   "version": "3.12.7"
  }
 },
 "nbformat": 4,
 "nbformat_minor": 5
}
